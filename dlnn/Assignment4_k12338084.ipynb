{
  "cells": [
    {
      "cell_type": "raw",
      "metadata": {
        "id": "WWOcoKrsvm7l"
      },
      "source": [
        "\n",
        "This material, no matter whether in printed or electronic form,\n",
        "may be used for personal and non-commercial educational use only.\n",
        "Any reproduction of this manuscript,\n",
        "no matter whether as a whole or in parts,\n",
        "no matter whether in printed or in electronic form,\n",
        "requires explicit prior acceptance of the authors.\n"
      ]
    },
    {
      "cell_type": "markdown",
      "metadata": {
        "id": "yZ_u9-a9vm7n"
      },
      "source": [
        "<!-- Assignment 6 - SS 2023 -->\n",
        "\n",
        "# Adversarial Training (15 points)"
      ]
    },
    {
      "cell_type": "markdown",
      "metadata": {
        "id": "o6hHuwPcvm7o"
      },
      "source": [
        "This notebook contains one of the assignments for the exercises in Deep Learning and Neural Nets 2.\n",
        "It provides a skeleton, i.e. code with gaps, that will be filled out by you in different exercises.\n",
        "All exercise descriptions are visually annotated by a vertical bar on the left and some extra indentation,\n",
        "unless you already messed with your jupyter notebook configuration.\n",
        "Any questions that are not part of the exercise statement do not need to be answered,\n",
        "but should rather be interpreted as triggers to guide your thought process.\n",
        "\n",
        "**Note**: The cells in the introductory part (before the first subtitle)\n",
        "perform all necessary imports and provide utility functions that should work without (too much) problems.\n",
        "Please, do not alter this code or add extra import statements in your submission, unless explicitly allowed!\n",
        "\n",
        "<span style=\"color:#d95c4c\">**IMPORTANT:**</span> Please, change the name of your submission file so that it contains your student ID!"
      ]
    },
    {
      "cell_type": "markdown",
      "metadata": {
        "id": "gj-X33K_vm7o"
      },
      "source": [
        "In this assignment, we will play around with adversarial techniques in deep learning.\n",
        "The main goal is to build some understanding of *Generative Adversarial Networks* (GANs).\n",
        "However, we will also take a look at *adversarial training*,\n",
        "which is a collection of methods for fooling neural networks.\n",
        "Although both approaches are completely unrelated,\n",
        "it turns out that is possible to build GANs, starting from adversarial examples.\n"
      ]
    },
    {
      "cell_type": "code",
      "execution_count": 1,
      "metadata": {
        "pycharm": {
          "name": "#%%\n"
        },
        "colab": {
          "base_uri": "https://localhost:8080/"
        },
        "id": "W0GGFjJUvm7o",
        "outputId": "f1a24e90-8c69-47f0-a633-75636efdd73e"
      },
      "outputs": [
        {
          "output_type": "stream",
          "name": "stdout",
          "text": [
            "cuda\n"
          ]
        }
      ],
      "source": [
        "import os\n",
        "\n",
        "import torch\n",
        "from torch import nn\n",
        "from torch import optim\n",
        "from torch.utils.data import DataLoader, Dataset\n",
        "from torchvision import transforms\n",
        "from torchvision import datasets\n",
        "from PIL import Image\n",
        "\n",
        "torch.manual_seed(1806)\n",
        "torch.cuda.manual_seed(1806)\n",
        "device = 'cuda' if torch.cuda.is_available() else 'cpu'\n",
        "print(device)"
      ]
    },
    {
      "cell_type": "code",
      "execution_count": 2,
      "metadata": {
        "pycharm": {
          "name": "#%%\n"
        },
        "colab": {
          "base_uri": "https://localhost:8080/"
        },
        "id": "-TIwNWftvm7p",
        "outputId": "d8f33dcc-3d55-47f9-dc9d-167e82c7a893"
      },
      "outputs": [
        {
          "output_type": "stream",
          "name": "stdout",
          "text": [
            "Mounted at /content/gdrive\n",
            "gdrive/MyDrive/.pytorch\n"
          ]
        }
      ],
      "source": [
        "# google colab data management\n",
        "import os.path\n",
        "\n",
        "try:\n",
        "    from google.colab import drive\n",
        "    drive.mount('/content/gdrive')\n",
        "    _home = 'gdrive/MyDrive/'\n",
        "except ImportError:\n",
        "    _home = '~'\n",
        "finally:\n",
        "    data_root = os.path.join(_home, '.pytorch')\n",
        "\n",
        "print(data_root)"
      ]
    },
    {
      "cell_type": "code",
      "execution_count": 3,
      "metadata": {
        "id": "hDjZ8hlyvm7p"
      },
      "outputs": [],
      "source": [
        "class BaseTrainer:\n",
        "\n",
        "    def __init__(self,\n",
        "         model: nn.Module,\n",
        "         criterion: nn.Module,\n",
        "         optimiser: optim.Optimizer,\n",
        "    ):\n",
        "        \"\"\"\n",
        "        Parameters\n",
        "        ----------\n",
        "        model : torch.nn.Module\n",
        "            Neural Network that will be trained.\n",
        "        criterion : torch.nn.Module\n",
        "            Loss function to use for training.\n",
        "        optimiser : torch.optim.Optimizer\n",
        "            Optimisation strategy for training.\n",
        "        tracker : Tracker, optional\n",
        "            Tracker to keep track of training progress.\n",
        "        \"\"\"\n",
        "        self.model = model\n",
        "        self.criterion = criterion\n",
        "        self.optimiser = optimiser\n",
        "\n",
        "    def state_dict(self):\n",
        "        \"\"\" Current state of learning. \"\"\"\n",
        "        return {\n",
        "            \"model\": self.model.state_dict(),\n",
        "            \"objective\": self.criterion.state_dict(),\n",
        "            \"optimiser\": self.optimiser.state_dict(),\n",
        "        }\n",
        "\n",
        "    def load_state_dict(self, state_dict: dict):\n",
        "        \"\"\" Restore learning state. \"\"\"\n",
        "        self.model.load_state_dict(state_dict[\"model\"])\n",
        "        self.criterion.load_state_dict(state_dict[\"objective\"])\n",
        "        self.optimiser.load_state_dict(state_dict[\"optimiser\"])\n",
        "\n",
        "    @property\n",
        "    def device(self):\n",
        "        \"\"\" Device of the (first) model parameters. \"\"\"\n",
        "        return next(self.model.parameters()).device\n",
        "\n",
        "    def _forward(self, data: DataLoader, metric: callable):\n",
        "        device = self.device\n",
        "        for x, y in data:\n",
        "            x, y = x.to(device), y.to(device)\n",
        "            outputs = self.model(x)\n",
        "            res = metric(outputs, y)\n",
        "            yield res\n",
        "\n",
        "    @torch.no_grad()\n",
        "    def evaluate(self, data: DataLoader, metric: callable) -> list:\n",
        "        self.model.eval()\n",
        "\n",
        "        results = self._forward(data, metric)\n",
        "        return [res.item() for res in results]\n",
        "\n",
        "\n",
        "    @torch.enable_grad()\n",
        "    def update(self, data: DataLoader) -> list:\n",
        "        opt = self.optimiser\n",
        "        self.model.train()\n",
        "\n",
        "        errs = []\n",
        "        for err in self._forward(data, self.criterion):\n",
        "            errs.append(err.item())\n",
        "\n",
        "            opt.zero_grad()\n",
        "            err.backward()\n",
        "            opt.step()\n",
        "\n",
        "        return errs\n",
        "\n",
        "    @property\n",
        "    def fake_data(self):\n",
        "        return None\n",
        "\n",
        "\n",
        "    def _display_results(self, count: int = 10):\n",
        "        \"\"\"\n",
        "        Display generated images.\n",
        "\n",
        "        Parameters\n",
        "        ----------\n",
        "        count : int, optional\n",
        "            Number of images to display.\n",
        "        \"\"\"\n",
        "        fake_data = self.fake_data\n",
        "        if fake_data is None:\n",
        "            return\n",
        "\n",
        "        x = fake_data[:count].to(self.device)\n",
        "        ps = self.model.probabilities(x).view(-1).tolist()\n",
        "        print(\"D probs:\", ', '.join([f\"{p:.2f}\" for p in ps]))\n",
        "\n",
        "        im = data_to_image(*x.cpu(), means=(.1307, ), stds=(.3081, ))\n",
        "        display(im, metadata={'width': '100%'})\n",
        "\n",
        "\n",
        "    def train(self, loader: DataLoader, num_epochs: int = 10, vis_every: int = 5):\n",
        "        \"\"\"\n",
        "        Train an auto-encoder for a number of epochs.\n",
        "\n",
        "        Parameters\n",
        "        ----------\n",
        "        loader : DataLoader\n",
        "            A data loader for iterating over batches of the data.\n",
        "        num_epochs : int, optional\n",
        "            Number of times to iterate the dataset.\n",
        "        vis_every : int, optional\n",
        "            Frequency, during training, of\n",
        "            intermediate visualisation of faked samples.\n",
        "        \"\"\"\n",
        "        # evaluate random performance\n",
        "        errs = self.evaluate(loader, self.criterion)\n",
        "        print(f\"Epoch {0: 2d} - avg loss: {sum(errs) / len(errs):.6f}\")\n",
        "        self._display_results()\n",
        "\n",
        "        # train for some epochs\n",
        "        for epoch in range(1, num_epochs + 1):\n",
        "            errs = self.update(loader)\n",
        "            print(f\"Epoch {epoch: 2d} - avg loss: {sum(errs) / len(errs):.6f}\")\n",
        "\n",
        "            if epoch % vis_every == 0:\n",
        "                self._display_results()\n",
        "\n",
        "        return errs"
      ]
    },
    {
      "cell_type": "code",
      "execution_count": 4,
      "metadata": {
        "id": "iqydEpssvm7q"
      },
      "outputs": [],
      "source": [
        "@torch.no_grad()\n",
        "def accuracy(logits, targets):\n",
        "    \"\"\"\n",
        "    Compute the accuracy for given logits and targets.\n",
        "\n",
        "    Parameters\n",
        "    ----------\n",
        "    logits : (N, K) torch.Tensor\n",
        "        A mini-batch of logit vectors from the network.\n",
        "    targets : (N, ) torch.Tensor\n",
        "        A mini_batch of target scalars representing the labels.\n",
        "\n",
        "    Returns\n",
        "    -------\n",
        "    acc : () torch.Tensor\n",
        "        The accuracy over the mini-batch of samples.\n",
        "    \"\"\"\n",
        "    correct = torch.argmax(logits, dim=-1) == targets\n",
        "    acc = torch.mean(correct.float())\n",
        "    return acc"
      ]
    },
    {
      "cell_type": "code",
      "execution_count": 5,
      "metadata": {
        "id": "avAXxQLDvm7q"
      },
      "outputs": [],
      "source": [
        "def data_to_image(*data: torch.Tensor,\n",
        "                  means: tuple = (0, ), stds: tuple = (1., )) -> Image:\n",
        "    \"\"\"\n",
        "    Convert multiple tensors to one big image.\n",
        "\n",
        "    Parameters\n",
        "    ----------\n",
        "    data0, data1, ... dataN : torch.Tensor\n",
        "        One or more tensors to be merged into a single image.\n",
        "    means : tuple or torch.Tensor, optional\n",
        "        Original mean of the image before normalisation.\n",
        "    stds : tuple or torch.Tensor, optional\n",
        "        Original standard deviation of the image before normalisation.\n",
        "\n",
        "    Returns\n",
        "    -------\n",
        "    image : Image\n",
        "        PIL image with all of the tensors next to each other.\n",
        "    \"\"\"\n",
        "    # concatenate all data\n",
        "    big_pic = torch.cat([x for x in data], dim=-1)\n",
        "\n",
        "    means = torch.tensor(means)\n",
        "    stds = torch.tensor(stds)\n",
        "    to_image = transforms.Compose([\n",
        "        # inverts normalisation of image\n",
        "        transforms.Normalize(-means / stds, 1. / stds),\n",
        "        transforms.Lambda(lambda x: torch.clamp(x, 0, 1)),\n",
        "        transforms.ToPILImage()\n",
        "    ])\n",
        "\n",
        "    return to_image(big_pic)\n",
        "\n",
        "def display_fakes(discriminator: nn.Module, fake_data: torch.Tensor,\n",
        "                  count: int = 10):\n",
        "    \"\"\"\n",
        "    Display the images that are fed as fakes to a discriminator.\n",
        "\n",
        "    Parameters\n",
        "    ----------\n",
        "    discriminator : nn.Module\n",
        "        The discriminator that is to be fooled by the fakes.\n",
        "    fake_data : (N, C, H, W) torch.Tensor\n",
        "        The fake images to display.\n",
        "    count : int, optional\n",
        "        Number of samples to display from `fake_data`.\n",
        "    \"\"\"\n",
        "    device = next(discriminator.parameters()).device\n",
        "    x = fake_data[:count].to(device)\n",
        "    ps = discriminator.probabilities(x).view(-1).tolist()\n",
        "    print(\"D probs:\", ', '.join([f\"{p:.2f}\" for p in ps]))\n",
        "\n",
        "    im = data_to_image(*x.cpu(), means=(.1307, ), stds=(.3081, ))\n",
        "    display(im, metadata={'width': '100%'})"
      ]
    },
    {
      "cell_type": "code",
      "execution_count": 6,
      "metadata": {
        "pycharm": {
          "name": "#%%\n"
        },
        "id": "zpZDnu2bvm7q"
      },
      "outputs": [],
      "source": [
        "def evaluate_attack(attack: callable, network: nn.Module, data: DataLoader,\n",
        "                    loss_func: nn.Module, vis_count: int = 8, **kwargs):\n",
        "    \"\"\"\n",
        "    Evaluate an adversarial attack on some data.\n",
        "\n",
        "    Parameters\n",
        "    ----------\n",
        "    attack : callable\n",
        "        Function that computes the adversarial example.\n",
        "        Will be called as `attack(x, y, network, loss_func, **kwargs).\n",
        "    network : nn.Module\n",
        "        The network to attack.\n",
        "    data : DataLoader\n",
        "        Data for the attack.\n",
        "    loss_func : nn.Module\n",
        "        Objective for the attack.\n",
        "    vis_count : int, optional\n",
        "        Number of adversarial examples to visualise.\n",
        "    kwargs\n",
        "        Keyword arguments for the attack function.\n",
        "    \"\"\"\n",
        "    dev = next(network.parameters()).device\n",
        "    network.eval()\n",
        "\n",
        "    accuracies = []\n",
        "    for x, y in data:\n",
        "        x, y = x.to(dev), y.to(dev)\n",
        "        adv_x = attack(x, y, network, loss_func, **kwargs)\n",
        "        adv_x = adv_x.clamp(x.min(), x.max())  # put in valid range\n",
        "\n",
        "        # compute accuracy on adversarial examples\n",
        "        with torch.no_grad():\n",
        "            logits = network(adv_x)\n",
        "            acc = accuracy(logits, y)\n",
        "            accuracies.append(acc.item())\n",
        "\n",
        "    print(f\"Adversarial accuracy: {100 * accuracies[0]:.2f}%\")\n",
        "\n",
        "    # collect relevant data\n",
        "    x_ref, y_ref = x[:vis_count], y[:vis_count]\n",
        "    x_adv, y_adv = adv_x[:vis_count], logits[:vis_count].argmax(-1)\n",
        "    with torch.no_grad():\n",
        "        y_pred = network(x_ref).argmax(-1)\n",
        "\n",
        "    # visualise adversaries\n",
        "    ref_im = data_to_image(*x_ref.cpu(), means=(.1307, ), stds=(.3081, ))\n",
        "    display(ref_im, metadata={'width': '100%'})\n",
        "    print(\"ground truth: \", y_ref.tolist())\n",
        "    print(\"before attack:\", y_pred.tolist())\n",
        "    print(\"after attack: \", y_adv.tolist())\n",
        "    adv_im = data_to_image(*x_adv.cpu(), means=(.1307, ), stds=(.3081, ))\n",
        "    display(adv_im, metadata={'width': '100%'})"
      ]
    },
    {
      "cell_type": "code",
      "execution_count": 7,
      "metadata": {
        "id": "XXEn5zrsvm7r"
      },
      "outputs": [],
      "source": [
        "class DiscriminatorTrainer(BaseTrainer):\n",
        "\n",
        "    def __init__(self, model, criterion, optimiser,\n",
        "                 dataset: \"RealOrFakeDataset\", epsilon: float = 0.1):\n",
        "        \"\"\"\n",
        "        Parameters\n",
        "        ----------\n",
        "        dataset : RealOrFakeDataset\n",
        "            The dataset that will be used to train the discriminator.\n",
        "        epsilon: float, optional\n",
        "            The maximum allowed perturbation for the adversarial attacks.\n",
        "        \"\"\"\n",
        "        super().__init__(model, criterion, optimiser)\n",
        "        self.dataset = dataset\n",
        "        self.epsilon = epsilon\n",
        "\n",
        "    @property\n",
        "    def fake_data(self):\n",
        "        return self.dataset.fake_data\n",
        "\n",
        "    def update(self, data: DataLoader) -> list:\n",
        "        results = super().update(data)\n",
        "        self.dataset.update_fake_examples(self.model, self.criterion, self.epsilon)\n",
        "        return results\n",
        "\n",
        "\n",
        "def train_gan(gan: nn.Module, loader: DataLoader, objective: nn.Module,\n",
        "              optimiser: optim.Optimizer, num_epochs: int = 10, vis_every: int = 5):\n",
        "    \"\"\"\n",
        "    Train a GAN for a number of epochs.\n",
        "\n",
        "    Parameters\n",
        "    ----------\n",
        "    gan : nn.Module\n",
        "        The GAN to train\n",
        "    loader : DataLoader\n",
        "        A data loader for iterating over batches of the data.\n",
        "        This can be a standard, \"supervised\" dataloader.\n",
        "    objective : nn.Module\n",
        "        The loss function to optimise during training.\n",
        "    optimiser : optim.Optimizer\n",
        "        The optimiser to use for training.\n",
        "    num_epochs : int, optional\n",
        "        Number of times to iterate the dataset.\n",
        "    vis_every : int, optional\n",
        "        Frequency, during training, of\n",
        "        intermediate visualisation of fake samples.\n",
        "\n",
        "    \"\"\"\n",
        "    g_errs, d_errs = [], []\n",
        "    for x, _ in loader:\n",
        "        x = x.to(device)\n",
        "        g_errs.append(generator_error(gan, x, objective).item())\n",
        "        d_errs.append(discriminator_error(gan, x, objective).item())\n",
        "    loss_report = ', '.join([\n",
        "        f\"avg G loss: {sum(g_errs) / len(g_errs):.5f}\",\n",
        "        f\"avg D loss: {sum(d_errs) / len(d_errs):.5f}\"\n",
        "    ])\n",
        "    print(f'Epoch {0: 2d}', loss_report, sep=' - ')\n",
        "    fake_data = gan.generator.generate(batch_size=10)\n",
        "    display_fakes(gan.discriminator, fake_data)\n",
        "\n",
        "    for epoch in range(1, num_epochs + 1):\n",
        "        g_errs, d_errs = update_gan(gan, loader, objective, optimiser)\n",
        "        loss_report = ', '.join([\n",
        "            f\"avg G loss: {sum(g_errs) / len(g_errs):.5f}\",\n",
        "            f\"avg D loss: {sum(d_errs) / len(d_errs):.5f}\"\n",
        "        ])\n",
        "        print(f'Epoch {epoch: 2d}', loss_report, sep=' - ')\n",
        "        if epoch % vis_every == 0:\n",
        "            fake_data = gan.generator.generate(batch_size=10)\n",
        "            display_fakes(gan.discriminator, fake_data)"
      ]
    },
    {
      "cell_type": "markdown",
      "metadata": {
        "id": "6xmiQbvivm7r"
      },
      "source": [
        "## Adversarial Examples"
      ]
    },
    {
      "cell_type": "code",
      "execution_count": 8,
      "metadata": {
        "id": "SUPhmxWWvm7r"
      },
      "outputs": [],
      "source": [
        "# set up training (nothing to do here)\n",
        "\n",
        "pre_processing = transforms.Compose([\n",
        "    transforms.ToTensor(),\n",
        "    transforms.Normalize((.1307, ), (.3081, ))\n",
        "])\n",
        "mnist_train = datasets.MNIST(data_root, transform=pre_processing)\n",
        "train_loader = DataLoader(mnist_train, shuffle=True, batch_size=128, num_workers=4)\n",
        "\n",
        "mnist_net = nn.Sequential(\n",
        "    nn.Conv2d(1, 8, 4, stride=2),\n",
        "    nn.ELU(),\n",
        "    nn.Conv2d(8, 32, 3, stride=2),\n",
        "    nn.ELU(),\n",
        "    nn.Conv2d(32, 64, 6),\n",
        "    nn.ELU(),\n",
        "    nn.Flatten(),\n",
        "    nn.Linear(64, 10)\n",
        ").to(device)\n",
        "\n",
        "trainer = BaseTrainer(\n",
        "    model=mnist_net,\n",
        "    criterion=nn.CrossEntropyLoss(),\n",
        "    optimiser=optim.SGD(mnist_net.parameters(), lr=1e-2, momentum=.9)\n",
        ")"
      ]
    },
    {
      "cell_type": "code",
      "execution_count": 9,
      "metadata": {
        "tags": [
          "skip-execution"
        ],
        "colab": {
          "base_uri": "https://localhost:8080/"
        },
        "id": "MDxKfH4avm7r",
        "outputId": "89a7c598-8e14-4079-c464-b2aaf19ad4c9"
      },
      "outputs": [
        {
          "output_type": "stream",
          "name": "stdout",
          "text": [
            "Epoch  0 - avg loss: 2.310794\n",
            "Epoch  1 - avg loss: 0.356059\n",
            "Epoch  2 - avg loss: 0.112316\n",
            "Epoch  3 - avg loss: 0.074124\n",
            "Epoch  4 - avg loss: 0.056325\n",
            "Epoch  5 - avg loss: 0.046636\n",
            "Epoch  6 - avg loss: 0.036963\n",
            "Epoch  7 - avg loss: 0.030945\n",
            "Epoch  8 - avg loss: 0.025034\n",
            "Epoch  9 - avg loss: 0.020623\n",
            "Epoch  10 - avg loss: 0.018712\n",
            "Epoch  11 - avg loss: 0.015201\n",
            "Epoch  12 - avg loss: 0.013424\n",
            "Epoch  13 - avg loss: 0.010467\n",
            "Epoch  14 - avg loss: 0.008822\n",
            "Epoch  15 - avg loss: 0.007537\n",
            "Epoch  16 - avg loss: 0.007254\n",
            "Epoch  17 - avg loss: 0.005839\n",
            "Epoch  18 - avg loss: 0.004752\n",
            "Epoch  19 - avg loss: 0.003479\n",
            "Epoch  20 - avg loss: 0.002577\n",
            "Train accuracy: 99.76%\n",
            "\n",
            "CPU times: user 35.6 s, sys: 6.18 s, total: 41.7 s\n",
            "Wall time: 1min 26s\n"
          ]
        }
      ],
      "source": [
        "%%time\n",
        "\n",
        "# train MNIST classifier\n",
        "errs = trainer.train(train_loader, num_epochs=20)\n",
        "errs = trainer.evaluate(train_loader, accuracy)\n",
        "print(f\"Train accuracy: {100 * sum(errs) / len(errs):.2f}%\")\n",
        "torch.save(trainer.state_dict(), \"mnist_net.pt\")  # for testing\n",
        "print()"
      ]
    },
    {
      "cell_type": "code",
      "execution_count": 10,
      "metadata": {
        "colab": {
          "base_uri": "https://localhost:8080/"
        },
        "id": "DAC2_Wa5vm7r",
        "outputId": "f5ef47e4-2d18-4278-c9ae-c9d2705a7991"
      },
      "outputs": [
        {
          "output_type": "stream",
          "name": "stdout",
          "text": [
            "Eval loss: 0.06838\n",
            "Eval accuracy: 98.39%\n"
          ]
        }
      ],
      "source": [
        "# test MNIST classifier\n",
        "trainer.load_state_dict(torch.load(\"mnist_net.pt\"))  # for testing\n",
        "mnist_test = datasets.MNIST(data_root, train=False, transform=pre_processing)\n",
        "test_loader = DataLoader(mnist_test, batch_size=len(mnist_test), num_workers=4)\n",
        "errs = trainer.evaluate(test_loader, trainer.criterion)\n",
        "print(f\"Eval loss: {errs[0]:.5f}\")\n",
        "errs = trainer.evaluate(test_loader, accuracy)\n",
        "print(f\"Eval accuracy: {100 * errs[0]:.2f}%\")"
      ]
    },
    {
      "cell_type": "markdown",
      "metadata": {
        "id": "PLgi1JFWvm7r"
      },
      "source": [
        "It has become extremely easy to get good models for plenty of tasks.\n",
        "It only takes a few lines of code and a handful of minutes\n",
        "to get a model that is able to recognise handwritten digits.\n",
        "This does not mean, however, that the network *understands* these images.\n",
        "It turns out that even the best models can easily be fooled\n",
        "by creating what is known as *adversarial examples*."
      ]
    },
    {
      "cell_type": "markdown",
      "metadata": {
        "id": "fpDNkkQOvm7s"
      },
      "source": [
        "There are mainly two ways to make a strong network look stupid:\n",
        " 1. Change existing images until the network mis-classifies them,\n",
        " 2. Make predictions on random noise (out-of-distribution images).\n",
        "\n",
        "The first approach is an active topic in Machine Learning research.\n",
        "The main goal is to find the smallest possible perturbations\n",
        "that are required to make the network misclassify its inputs.\n",
        "\n",
        "The second approach can be considered silly because in most cases,\n",
        "a network is simply not able to express that it has no idea what to predict.\n",
        "Nevertheless, this can make systems that rely on neural networks vulnerable.\n",
        "E.g. face recognition software being fooled by carefully constructed noise."
      ]
    },
    {
      "cell_type": "markdown",
      "metadata": {
        "id": "PUJoAjZIvm7s"
      },
      "source": [
        "### Exercise 1: Projected Gradient Ascent (5 points)\n",
        "\n",
        "One of the easiest ways to construct an adversarial example\n",
        "is to maximise the loss by using gradient ascent on the inputs.\n",
        "After all, the parameters of a neural network are also the result\n",
        "of a gradient descent that minises the loss function.\n",
        "\n",
        "In order to keep the perturbations to the original image small,\n",
        "a constraint is added to the gradient ascent for adversarial examples:\n",
        "the adversarial example must lie in an epsilon-ball around the original input.\n",
        "This procedure is also known as *projected gradient ascent*.\n",
        "\n",
        " > Implement the `adversarial_attack` function below\n",
        " > so that it implements projected gradient ascent as described above.\n",
        " > To speed up the process of finding adversarial examples,\n",
        " > you can use the sign of the gradients instead of the pure gradients.\n",
        " > Make sure not to return the computational graph!\n",
        "\n",
        "**Hint:** If you are having problems with gradient errors, your computations might involve an unwanted gradient flow."
      ]
    },
    {
      "cell_type": "code",
      "source": [
        "x_batch, _ = next(iter(train_loader))\n",
        "print(x_batch.min().item(), x_batch.max().item())\n"
      ],
      "metadata": {
        "colab": {
          "base_uri": "https://localhost:8080/"
        },
        "id": "xcvvWVbe0Tel",
        "outputId": "ab038ca7-28d4-4432-ad93-d5680406c015"
      },
      "execution_count": 11,
      "outputs": [
        {
          "output_type": "stream",
          "name": "stdout",
          "text": [
            "-0.4242129623889923 2.821486711502075\n"
          ]
        }
      ]
    },
    {
      "cell_type": "code",
      "execution_count": 27,
      "metadata": {
        "deletable": false,
        "nbgrader": {
          "cell_type": "code",
          "checksum": "5e4875cea3c0effa25c0e2d13879171e",
          "grade": false,
          "grade_id": "cell-965f642deb344c0e",
          "locked": false,
          "schema_version": 3,
          "solution": true,
          "task": false
        },
        "tags": [],
        "id": "_JIULlPvvm7s"
      },
      "outputs": [],
      "source": [
        "def adversarial_attack(x: torch.Tensor, y: torch.Tensor,\n",
        "                       network: nn.Module, loss_func: nn.Module,\n",
        "                       epsilon: float = .1, eta: float = .1, steps: int = 10):\n",
        "    \"\"\"\n",
        "    Compute an adversarial example for a network from a given input.\n",
        "\n",
        "    Parameters\n",
        "    ----------\n",
        "    x : torch.Tensor\n",
        "        The reference input for the network.\n",
        "    y : torch.Tensor\n",
        "        The label for the reference input.\n",
        "    network : nn.Module\n",
        "        The network to compute the adversary for.\n",
        "    loss_func : nn.Module\n",
        "        The loss function the network was trained with.\n",
        "    epsilon : float, optional\n",
        "        The radius of the ball to keep the adversary within.\n",
        "    eta : float, optional\n",
        "        The step size to use for computing the adversary.\n",
        "    steps : int, optional\n",
        "        The number of gradient steps to take.\n",
        "\n",
        "    Returns\n",
        "    -------\n",
        "    adversary : torch.Tensor\n",
        "        The adversarial example (`x + perturbation`).\n",
        "    \"\"\"\n",
        "    # YOUR CODE HERE\n",
        "\n",
        "    # copy the inital pic, and init within L_inf\n",
        "    x0 = x.detach()\n",
        "    x_adv = x0.clone().detach()\n",
        "\n",
        "    for _ in range(steps):\n",
        "        # gradient tracking on x_adv\n",
        "        x_adv.requires_grad_(True)\n",
        "\n",
        "        # calculate loss and calculate gradient\n",
        "        logits = network(x_adv)\n",
        "        loss = loss_func(logits, y)\n",
        "        loss.backward()\n",
        "\n",
        "        #update follow the sign direction\n",
        "        grad_sign = x_adv.grad.sign()\n",
        "        with torch.no_grad():\n",
        "            x_adv = x_adv + eta * grad_sign\n",
        "            # project back to L_inf, ensure each pixal |x_adv - x0| ≤ ε\n",
        "            x_adv = torch.max(torch.min(x_adv, x0 + epsilon), x0 - epsilon)\n",
        "            # ensure pixal within range\n",
        "            low, high = (0.0 - 0.1307) / 0.3081, (1.0 - 0.1307) / 0.3081 # transforms.Normalize((0.1307,), (0.3081,))\n",
        "            x_adv = torch.clamp(x_adv, low, high)\n",
        "\n",
        "        # clear gradient, setup for next round update\n",
        "        x_adv = x_adv.detach()\n",
        "\n",
        "    return x_adv"
      ]
    },
    {
      "cell_type": "code",
      "execution_count": 28,
      "metadata": {
        "deletable": false,
        "editable": false,
        "nbgrader": {
          "cell_type": "code",
          "checksum": "441db99b2bc543eef4c7d63d7134ad28",
          "grade": true,
          "grade_id": "cell-b2294c61854a4e20",
          "locked": true,
          "points": 1,
          "schema_version": 3,
          "solution": false,
          "task": false
        },
        "tags": [],
        "id": "B-O4j7hSvm7s"
      },
      "outputs": [],
      "source": [
        "# Test Cell: do not edit or delete!\n",
        "x = torch.ones(1, 1, 28, 28).to(trainer.device)\n",
        "y = torch.zeros(1, dtype=torch.long).to(trainer.device)\n",
        "x_adv = adversarial_attack(x, y, trainer.model, trainer.criterion, epsilon=0.1)\n",
        "assert x.shape == x_adv.shape, (\n",
        "    \"ex1: adversarial_attack produces outputs with incorrect shape (-1 point)\"\n",
        ")\n",
        "assert torch.abs(x - x_adv).max() <= 0.1 + 1e-5, (\n",
        "    \"ex1: adversarial_attack produces outputs outside of epsilon ball (-1 point)\"\n",
        ")"
      ]
    },
    {
      "cell_type": "code",
      "execution_count": 29,
      "metadata": {
        "deletable": false,
        "editable": false,
        "nbgrader": {
          "cell_type": "code",
          "checksum": "4cd1d61c89779f8b09f0612e31cf73ae",
          "grade": true,
          "grade_id": "cell-3d16cb2776fe164b",
          "locked": true,
          "points": 1,
          "schema_version": 3,
          "solution": false,
          "task": false
        },
        "tags": [],
        "id": "zGYYXU0ivm7s"
      },
      "outputs": [],
      "source": [
        "# Test Cell: do not edit or delete!\n",
        "assert trainer.model(x_adv)[:, y] < trainer.model(x)[:, y], (\n",
        "    \"ex1: adversarial_attack produces outputs with better results (-1 point)\"\n",
        ")"
      ]
    },
    {
      "cell_type": "code",
      "execution_count": 30,
      "metadata": {
        "deletable": false,
        "editable": false,
        "nbgrader": {
          "cell_type": "code",
          "checksum": "88e7fec87ada2e20a569413e8b9c6112",
          "grade": true,
          "grade_id": "cell-29b9974ce8f26df7",
          "locked": true,
          "points": 1,
          "schema_version": 3,
          "solution": false,
          "task": false
        },
        "tags": [],
        "id": "F0EjjQnovm7s"
      },
      "outputs": [],
      "source": [
        "# Test Cell: do not edit or delete!\n",
        "assert len(torch.abs(x - x_adv).unique()) <= 5, (\n",
        "    \"ex1: adversarial_attack does not seem to change pixels fast enough (-1 point)\"\n",
        ")"
      ]
    },
    {
      "cell_type": "code",
      "execution_count": 31,
      "metadata": {
        "deletable": false,
        "editable": false,
        "nbgrader": {
          "cell_type": "code",
          "checksum": "1e6cc9a4a4ed72353da8bf95bb887d55",
          "grade": true,
          "grade_id": "cell-aa15d48e912f0412",
          "locked": true,
          "points": 0.5,
          "schema_version": 3,
          "solution": false,
          "task": false
        },
        "tags": [],
        "id": "3G9SwKDQvm7t"
      },
      "outputs": [],
      "source": [
        "# Test Cell: do not edit or delete!"
      ]
    },
    {
      "cell_type": "code",
      "execution_count": 32,
      "metadata": {
        "deletable": false,
        "editable": false,
        "nbgrader": {
          "cell_type": "code",
          "checksum": "be054fb04a5577496c49d9252760b061",
          "grade": true,
          "grade_id": "cell-716c91d9770e9a69",
          "locked": true,
          "points": 1,
          "schema_version": 3,
          "solution": false,
          "task": false
        },
        "tags": [],
        "id": "G4fio9Osvm7t"
      },
      "outputs": [],
      "source": [
        "# Test Cell: do not edit or delete!"
      ]
    },
    {
      "cell_type": "code",
      "execution_count": 33,
      "metadata": {
        "deletable": false,
        "editable": false,
        "nbgrader": {
          "cell_type": "code",
          "checksum": "5436cd4ec92441f3482e413c7f584253",
          "grade": true,
          "grade_id": "cell-e0c65e7521b2c796",
          "locked": true,
          "points": 0.5,
          "schema_version": 3,
          "solution": false,
          "task": false
        },
        "tags": [],
        "id": "azNqkH51vm7t"
      },
      "outputs": [],
      "source": [
        "# Test Cell: do not edit or delete!"
      ]
    },
    {
      "cell_type": "code",
      "execution_count": 34,
      "metadata": {
        "tags": [],
        "colab": {
          "base_uri": "https://localhost:8080/",
          "height": 142
        },
        "id": "dtz8zLePvm7t",
        "outputId": "849deb4d-b9d7-44bd-fabc-fea1bf096df1"
      },
      "outputs": [
        {
          "output_type": "stream",
          "name": "stdout",
          "text": [
            "Adversarial accuracy: 50.24%\n"
          ]
        },
        {
          "output_type": "display_data",
          "data": {
            "text/plain": [
              "<PIL.Image.Image image mode=L size=224x28>"
            ],
            "image/png": "[encoded data removed]",
            "image/jpeg": "[encoded data removed]"
          },
          "metadata": {
            "width": "100%"
          }
        },
        {
          "output_type": "stream",
          "name": "stdout",
          "text": [
            "ground truth:  [7, 2, 1, 0, 4, 1, 4, 9]\n",
            "before attack: [7, 2, 1, 0, 4, 1, 4, 9]\n",
            "after attack:  [3, 2, 7, 2, 9, 7, 8, 4]\n"
          ]
        },
        {
          "output_type": "display_data",
          "data": {
            "text/plain": [
              "<PIL.Image.Image image mode=L size=224x28>"
            ],
            "image/png": "[encoded data removed]",
            "image/jpeg": "[encoded data removed]"
          },
          "metadata": {
            "width": "100%"
          }
        }
      ],
      "source": [
        "# sanity check\n",
        "trainer.model.requires_grad_(False)  # disable parameter gradients\n",
        "evaluate_attack(adversarial_attack, trainer.model, test_loader, trainer.criterion, epsilon=.3)"
      ]
    },
    {
      "cell_type": "markdown",
      "metadata": {
        "pycharm": {
          "name": "#%% md\n"
        },
        "id": "FUy9YZlDvm7t"
      },
      "source": [
        "## Fooling a Dummy Network\n",
        "\n",
        "Adversarial examples are considered an analysis tool\n",
        "that can help to gain insights in how neural networks behave.\n",
        "However, when pushing these methods, it turns out that\n",
        "adversarial examples can actually also be used to generate new images.\n",
        "The key point to getting useful images, is to attack the right model.\n",
        "\n",
        "Consider the task of predicting whether an input is *real* or *fake*.\n",
        "A *real* sample would be defined as an input that comes from the dataset,\n",
        "whereas a *fake* example is an input that does not appear in the dataset.\n",
        "It should be relatively easy to build a binary classification model for this task.\n",
        "Let us denote this model as a *discriminator*,\n",
        "since it discriminates between *real* and *fake* images.\n",
        "\n",
        "By using an adversarial attack on this model\n",
        "*fake* inputs can be altered to look more like *real* samples."
      ]
    },
    {
      "cell_type": "code",
      "execution_count": 20,
      "metadata": {
        "id": "1W3BMXvivm7t"
      },
      "outputs": [],
      "source": [
        "class Discriminator(nn.Module):\n",
        "    \"\"\" Network for deciding whether a MNIST image is real or fake. \"\"\"\n",
        "\n",
        "    def __init__(self):\n",
        "        super().__init__()\n",
        "        self.model = nn.Sequential(\n",
        "            nn.Conv2d(1, 8, 4, stride=2),\n",
        "            nn.ELU(),\n",
        "            nn.Conv2d(8, 32, 3, stride=2),\n",
        "            nn.ELU(),\n",
        "            # (old-school) global average pooling\n",
        "            nn.Conv2d(32, 64, 6),\n",
        "            nn.ELU(),\n",
        "            nn.Flatten(),\n",
        "            nn.Linear(64, 1)\n",
        "        )\n",
        "\n",
        "    def forward(self, x):\n",
        "        return self.model(x)\n",
        "\n",
        "    @torch.no_grad()\n",
        "    def probabilities(self, x):\n",
        "        \"\"\"\n",
        "        Compute probability of inputs being real.\n",
        "\n",
        "        Parameters\n",
        "        ----------\n",
        "        x : torch.Tensor\n",
        "            The inputs to compute the probabilities for.\n",
        "\n",
        "        Returns\n",
        "        -------\n",
        "        p : torch.Tensor\n",
        "            Values between 0 (fake) and 1 (real).\n",
        "\n",
        "        Notes\n",
        "        -----\n",
        "        Gradient computations are disabled.\n",
        "        \"\"\"\n",
        "        logits = self.model(x)\n",
        "        return torch.sigmoid(logits)\n",
        "\n",
        "    @torch.no_grad()\n",
        "    def predict(self, x):\n",
        "        \"\"\"\n",
        "        Make a hard prediction on fake or real.\n",
        "\n",
        "        Parameters\n",
        "        ----------\n",
        "        x : torch.Tensor\n",
        "            The inputs to compute the prediction for.\n",
        "\n",
        "        Returns\n",
        "        -------\n",
        "        y : torch.Tensor\n",
        "            Either 0 (fake) or 1 (real).\n",
        "\n",
        "        Notes\n",
        "        -----\n",
        "        Gradient computations are disabled.\n",
        "        \"\"\"\n",
        "        logits = self.model(x)\n",
        "        return (logits > 0).int()"
      ]
    },
    {
      "cell_type": "markdown",
      "metadata": {
        "pycharm": {
          "name": "#%% md\n"
        },
        "id": "-_lv8Dhyvm7t"
      },
      "source": [
        "###### Paradox of the Discriminator\n",
        "\n",
        "If we compute adversarial examples for the discriminator,\n",
        "we can only get more *fake* inputs,\n",
        "since the adversaries are not part of the dataset.\n",
        "Now, a successful adversary of a *real* input,\n",
        "should be classified as a *fake*, and vice versa.\n",
        "Note that successful adversaries of *real* inputs\n",
        "will be **correctly** classified as *fake*.\n",
        "Hence, the obtained example would not really be adversarial.\n",
        "Therefore, the only truly adversarial examples for this model\n",
        "are *fake* inputs that are converted to be recongised as *real*."
      ]
    },
    {
      "cell_type": "markdown",
      "metadata": {
        "id": "EbWb7d-Wvm7u"
      },
      "source": [
        "### Exercise 2: Discriminator Data (3 points)\n",
        "\n",
        "Training a model that is able to discriminate between *real* and *fake*,\n",
        "is not entirely straightforward.\n",
        "The main problem is to obtain a reasonable dataset\n",
        "that represents both classes equally well.\n",
        "\n",
        "One solution is to use random noise for the *fake* inputs.\n",
        "However, this often makes things too easy\n",
        "and will not produce a particularly strong model.\n",
        "To counter this issue, we can use an adversarial attack\n",
        "to make the *fake* inputs appear more real\n",
        "after every epoch of discriminator training.\n",
        "This turns out to produce a reasonable discriminator\n",
        "as well as reasonably good *fake* inputs.\n",
        "\n",
        " > Implement the `update_fake_examples` method of the `RealOrFakeDataset`\n",
        " > to implement the approach described above.\n",
        " > Make sure to keep the adversarial examples in a valid range!\n",
        "\n",
        "**Hint:** You can use the `adversarial_attack` function from the previous exercise to compute adversarial examples."
      ]
    },
    {
      "cell_type": "code",
      "execution_count": 35,
      "metadata": {
        "deletable": false,
        "nbgrader": {
          "cell_type": "code",
          "checksum": "dc04760cd8b799a28621276ee9af3b72",
          "grade": false,
          "grade_id": "cell-0dc5e70d199f26f7",
          "locked": false,
          "schema_version": 3,
          "solution": true,
          "task": false
        },
        "tags": [],
        "id": "OVrApG4Xvm7u"
      },
      "outputs": [],
      "source": [
        "class RealOrFakeDataset(Dataset):\n",
        "    \"\"\" Dataset for enhancing a (small) dataset with fake inputs. \"\"\"\n",
        "\n",
        "    def __init__(self, real_dataset, seed: int = None):\n",
        "        super().__init__()\n",
        "        self.ref_dataset = real_dataset\n",
        "\n",
        "        # control randomness\n",
        "        rng = torch.Generator()\n",
        "        if seed is not None:\n",
        "            rng.manual_seed(seed)\n",
        "\n",
        "        # get real, pre-processed data\n",
        "        real_data = torch.stack([x for x, _ in real_dataset])\n",
        "        mean, std = real_data.mean(), real_data.std()\n",
        "        min_x, max_x = real_data.min(), real_data.max()\n",
        "        self.min_x, self.max_x = min_x, max_x\n",
        "        # generate fake data (with similar statistics)\n",
        "        self.fake_data = torch.empty_like(real_data)\n",
        "        self.fake_data.normal_(mean, std, generator=rng).clamp_(min_x, max_x)\n",
        "\n",
        "    def __getitem__(self, index):\n",
        "        new_index = index - len(self.ref_dataset)\n",
        "        if new_index < 0:\n",
        "            x, _ = self.ref_dataset[index]\n",
        "            return x, torch.ones(1)\n",
        "\n",
        "        return self.fake_data[new_index], torch.zeros(1)\n",
        "\n",
        "    def __len__(self):\n",
        "        return len(self.ref_dataset) + len(self.fake_data)\n",
        "\n",
        "    @property\n",
        "    def raw_folder(self):\n",
        "        return os.path.join(self.root, 'MNIST', 'raw')\n",
        "\n",
        "    @property\n",
        "    def processed_folder(self):\n",
        "        return os.path.join(self.root, 'MNIST', 'processed')\n",
        "\n",
        "    def update_fake_examples(self, network: nn.Module, loss_func: nn.Module,\n",
        "                             epsilon: float = .1):\n",
        "        \"\"\"\n",
        "        Update the fake examples of this dataset.\n",
        "\n",
        "        The fake examples are updated by computing adversarial examples\n",
        "        for the network that is trained with the data from this dataset.\n",
        "\n",
        "        Parameters\n",
        "        ----------\n",
        "        network : nn.Module\n",
        "            Network to use for computing adversarial examples.\n",
        "        loss_func : nn.Module\n",
        "            Loss function to use for computing adversarial examples.\n",
        "        epsilon : float, optional\n",
        "            Epsilon parameter for the adversarial attack.\n",
        "\n",
        "        Notes\n",
        "        -----\n",
        "        This method overwrites the fake samples.\n",
        "        It should not be necessary to create a new dataset\n",
        "        or set up a new data loader.\n",
        "        \"\"\"\n",
        "        device = next(network.parameters()).device\n",
        "        # YOUR CODE HERE\n",
        "\n",
        "        network.eval()  # not update model perameters\n",
        "\n",
        "        x0 = self.fake_data.to(device)\n",
        "\n",
        "        # fake label y=0, y0.shape == (64,1)\n",
        "        y0 = torch.zeros(x0.size(0), 1, dtype=torch.float, device=device)\n",
        "\n",
        "        # use adversarial attack to maximize loss\n",
        "        x_adv = adversarial_attack(x0, y0, network, loss_func,\n",
        "                                   epsilon=epsilon)\n",
        "\n",
        "        #clamp back to legit range\n",
        "        min_x = self.min_x.to(device)\n",
        "        max_x = self.max_x.to(device)\n",
        "        x_adv = torch.max(torch.min(x_adv, max_x), min_x)\n",
        "\n",
        "        #update and back to CPU\n",
        "        self.fake_data = x_adv.detach().cpu()"
      ]
    },
    {
      "cell_type": "code",
      "execution_count": 36,
      "metadata": {
        "deletable": false,
        "editable": false,
        "nbgrader": {
          "cell_type": "code",
          "checksum": "c486661bcf832548b9db50b4cc1e550f",
          "grade": true,
          "grade_id": "cell-cfcadb4f82d394fa",
          "locked": true,
          "points": 1,
          "schema_version": 3,
          "solution": false,
          "task": false
        },
        "tags": [],
        "id": "mHyn8Vfkvm7u"
      },
      "outputs": [],
      "source": [
        "# Test Cell: do not edit or delete!\n",
        "discriminator = Discriminator()\n",
        "bce = nn.BCEWithLogitsLoss()\n",
        "data = RealOrFakeDataset(torch.utils.data.Subset(mnist_train, range(64)))\n",
        "\n",
        "old_samples = data.fake_data.clone()\n",
        "data.update_fake_examples(discriminator, bce)\n",
        "new_samples = data.fake_data\n",
        "assert torch.any(old_samples != new_samples), (\n",
        "    \"ex2: update_fake_examples does nothing (-1 point)\"\n",
        ")"
      ]
    },
    {
      "cell_type": "code",
      "execution_count": 37,
      "metadata": {
        "deletable": false,
        "editable": false,
        "nbgrader": {
          "cell_type": "code",
          "checksum": "9e68346a1c9d72d3e56f00372591ad35",
          "grade": true,
          "grade_id": "cell-a1ce83fcff055786",
          "locked": true,
          "points": 0.5,
          "schema_version": 3,
          "solution": false,
          "task": false
        },
        "tags": [],
        "id": "lFBhWN8cvm7u"
      },
      "outputs": [],
      "source": [
        "# Test Cell: do not edit or delete!"
      ]
    },
    {
      "cell_type": "code",
      "execution_count": 38,
      "metadata": {
        "deletable": false,
        "editable": false,
        "nbgrader": {
          "cell_type": "code",
          "checksum": "c5f7eedb71179170fe5487b4ddaa7620",
          "grade": true,
          "grade_id": "cell-7cc671490cc4b884",
          "locked": true,
          "points": 1,
          "schema_version": 3,
          "solution": false,
          "task": false
        },
        "tags": [],
        "id": "MPTxNLtRvm7u"
      },
      "outputs": [],
      "source": [
        "# Test Cell: do not edit or delete!\n",
        "assert torch.all(discriminator(new_samples) > discriminator(old_samples)), (\n",
        "    \"ex2: update_fake_examples does not make samples more real (-1 point)\"\n",
        ")"
      ]
    },
    {
      "cell_type": "code",
      "execution_count": 39,
      "metadata": {
        "deletable": false,
        "editable": false,
        "nbgrader": {
          "cell_type": "code",
          "checksum": "869a57ec763b4e5b86748bd27eb4e35a",
          "grade": true,
          "grade_id": "cell-306bb1f47e6a79a3",
          "locked": true,
          "points": 0.5,
          "schema_version": 3,
          "solution": false,
          "task": false
        },
        "tags": [],
        "id": "cE3z8O-1vm7u"
      },
      "outputs": [],
      "source": [
        "# Test Cell: do not edit or delete!"
      ]
    },
    {
      "cell_type": "markdown",
      "metadata": {
        "id": "2ZFyW5jKvm7u"
      },
      "source": [
        "### Exercise 3: Training the Discriminator (1 point)\n",
        "\n",
        "Finally, we can use this dataset for training the discriminator.\n",
        "By updating the *fake* inputs after every epoch of training,\n",
        "the quality of the *fake* inputs, and therefore also the discriminator,\n",
        "should improve steadily during training.\n",
        "\n",
        "Time to test if this actually works.\n",
        "The `train_discriminator` function (in the preamble)\n",
        "implements a training loop that updates the fake examples every epoch.\n",
        "The code below is able to train the discriminator to zero loss.\n",
        "However, the *fake* images do not look very realistic.\n",
        "\n",
        " > Play around with some of the hyperparameters (lr, epsilon, ...)\n",
        " > to get more realistic *fake* images,\n",
        " > so that the task of the discriminator becomes harder."
      ]
    },
    {
      "cell_type": "code",
      "execution_count": 47,
      "metadata": {
        "deletable": false,
        "nbgrader": {
          "cell_type": "code",
          "checksum": "3943f5a5fb6e8ada879135ccf5660c6b",
          "grade": true,
          "grade_id": "cell-178513103ef77cd0",
          "locked": false,
          "points": 1,
          "schema_version": 3,
          "solution": true,
          "task": false
        },
        "tags": [
          "skip-execution"
        ],
        "colab": {
          "base_uri": "https://localhost:8080/",
          "height": 356
        },
        "id": "TUSmyBLDvm7v",
        "outputId": "7e4b07ef-135d-4d4d-f67e-7c369af22746"
      },
      "outputs": [
        {
          "output_type": "error",
          "ename": "KeyboardInterrupt",
          "evalue": "",
          "traceback": [
            "\u001b[0;31m---------------------------------------------------------------------------\u001b[0m",
            "\u001b[0;31mKeyboardInterrupt\u001b[0m                         Traceback (most recent call last)",
            "\u001b[0;32m<ipython-input-47-a42ee0754c53>\u001b[0m in \u001b[0;36m<cell line: 0>\u001b[0;34m()\u001b[0m\n\u001b[0;32m----> 1\u001b[0;31m \u001b[0md_data\u001b[0m \u001b[0;34m=\u001b[0m \u001b[0mRealOrFakeDataset\u001b[0m\u001b[0;34m(\u001b[0m\u001b[0mmnist_train\u001b[0m\u001b[0;34m)\u001b[0m\u001b[0;34m\u001b[0m\u001b[0;34m\u001b[0m\u001b[0m\n\u001b[0m\u001b[1;32m      2\u001b[0m \u001b[0md_loader\u001b[0m \u001b[0;34m=\u001b[0m \u001b[0mDataLoader\u001b[0m\u001b[0;34m(\u001b[0m\u001b[0md_data\u001b[0m\u001b[0;34m,\u001b[0m \u001b[0mbatch_size\u001b[0m\u001b[0;34m=\u001b[0m\u001b[0;36m128\u001b[0m\u001b[0;34m,\u001b[0m \u001b[0mshuffle\u001b[0m\u001b[0;34m=\u001b[0m\u001b[0;32mTrue\u001b[0m\u001b[0;34m)\u001b[0m\u001b[0;34m\u001b[0m\u001b[0;34m\u001b[0m\u001b[0m\n\u001b[1;32m      3\u001b[0m \u001b[0;34m\u001b[0m\u001b[0m\n\u001b[1;32m      4\u001b[0m \u001b[0mdiscriminator\u001b[0m \u001b[0;34m=\u001b[0m \u001b[0mDiscriminator\u001b[0m\u001b[0;34m(\u001b[0m\u001b[0;34m)\u001b[0m\u001b[0;34m.\u001b[0m\u001b[0mto\u001b[0m\u001b[0;34m(\u001b[0m\u001b[0mdevice\u001b[0m\u001b[0;34m)\u001b[0m\u001b[0;34m\u001b[0m\u001b[0;34m\u001b[0m\u001b[0m\n\u001b[1;32m      5\u001b[0m trainer = DiscriminatorTrainer(\n",
            "\u001b[0;32m<ipython-input-35-d298eb7b0f10>\u001b[0m in \u001b[0;36m__init__\u001b[0;34m(self, real_dataset, seed)\u001b[0m\n\u001b[1;32m     12\u001b[0m \u001b[0;34m\u001b[0m\u001b[0m\n\u001b[1;32m     13\u001b[0m         \u001b[0;31m# get real, pre-processed data\u001b[0m\u001b[0;34m\u001b[0m\u001b[0;34m\u001b[0m\u001b[0m\n\u001b[0;32m---> 14\u001b[0;31m         \u001b[0mreal_data\u001b[0m \u001b[0;34m=\u001b[0m \u001b[0mtorch\u001b[0m\u001b[0;34m.\u001b[0m\u001b[0mstack\u001b[0m\u001b[0;34m(\u001b[0m\u001b[0;34m[\u001b[0m\u001b[0mx\u001b[0m \u001b[0;32mfor\u001b[0m \u001b[0mx\u001b[0m\u001b[0;34m,\u001b[0m \u001b[0m_\u001b[0m \u001b[0;32min\u001b[0m \u001b[0mreal_dataset\u001b[0m\u001b[0;34m]\u001b[0m\u001b[0;34m)\u001b[0m\u001b[0;34m\u001b[0m\u001b[0;34m\u001b[0m\u001b[0m\n\u001b[0m\u001b[1;32m     15\u001b[0m         \u001b[0mmean\u001b[0m\u001b[0;34m,\u001b[0m \u001b[0mstd\u001b[0m \u001b[0;34m=\u001b[0m \u001b[0mreal_data\u001b[0m\u001b[0;34m.\u001b[0m\u001b[0mmean\u001b[0m\u001b[0;34m(\u001b[0m\u001b[0;34m)\u001b[0m\u001b[0;34m,\u001b[0m \u001b[0mreal_data\u001b[0m\u001b[0;34m.\u001b[0m\u001b[0mstd\u001b[0m\u001b[0;34m(\u001b[0m\u001b[0;34m)\u001b[0m\u001b[0;34m\u001b[0m\u001b[0;34m\u001b[0m\u001b[0m\n\u001b[1;32m     16\u001b[0m         \u001b[0mmin_x\u001b[0m\u001b[0;34m,\u001b[0m \u001b[0mmax_x\u001b[0m \u001b[0;34m=\u001b[0m \u001b[0mreal_data\u001b[0m\u001b[0;34m.\u001b[0m\u001b[0mmin\u001b[0m\u001b[0;34m(\u001b[0m\u001b[0;34m)\u001b[0m\u001b[0;34m,\u001b[0m \u001b[0mreal_data\u001b[0m\u001b[0;34m.\u001b[0m\u001b[0mmax\u001b[0m\u001b[0;34m(\u001b[0m\u001b[0;34m)\u001b[0m\u001b[0;34m\u001b[0m\u001b[0;34m\u001b[0m\u001b[0m\n",
            "\u001b[0;32m<ipython-input-35-d298eb7b0f10>\u001b[0m in \u001b[0;36m<listcomp>\u001b[0;34m(.0)\u001b[0m\n\u001b[1;32m     12\u001b[0m \u001b[0;34m\u001b[0m\u001b[0m\n\u001b[1;32m     13\u001b[0m         \u001b[0;31m# get real, pre-processed data\u001b[0m\u001b[0;34m\u001b[0m\u001b[0;34m\u001b[0m\u001b[0m\n\u001b[0;32m---> 14\u001b[0;31m         \u001b[0mreal_data\u001b[0m \u001b[0;34m=\u001b[0m \u001b[0mtorch\u001b[0m\u001b[0;34m.\u001b[0m\u001b[0mstack\u001b[0m\u001b[0;34m(\u001b[0m\u001b[0;34m[\u001b[0m\u001b[0mx\u001b[0m \u001b[0;32mfor\u001b[0m \u001b[0mx\u001b[0m\u001b[0;34m,\u001b[0m \u001b[0m_\u001b[0m \u001b[0;32min\u001b[0m \u001b[0mreal_dataset\u001b[0m\u001b[0;34m]\u001b[0m\u001b[0;34m)\u001b[0m\u001b[0;34m\u001b[0m\u001b[0;34m\u001b[0m\u001b[0m\n\u001b[0m\u001b[1;32m     15\u001b[0m         \u001b[0mmean\u001b[0m\u001b[0;34m,\u001b[0m \u001b[0mstd\u001b[0m \u001b[0;34m=\u001b[0m \u001b[0mreal_data\u001b[0m\u001b[0;34m.\u001b[0m\u001b[0mmean\u001b[0m\u001b[0;34m(\u001b[0m\u001b[0;34m)\u001b[0m\u001b[0;34m,\u001b[0m \u001b[0mreal_data\u001b[0m\u001b[0;34m.\u001b[0m\u001b[0mstd\u001b[0m\u001b[0;34m(\u001b[0m\u001b[0;34m)\u001b[0m\u001b[0;34m\u001b[0m\u001b[0;34m\u001b[0m\u001b[0m\n\u001b[1;32m     16\u001b[0m         \u001b[0mmin_x\u001b[0m\u001b[0;34m,\u001b[0m \u001b[0mmax_x\u001b[0m \u001b[0;34m=\u001b[0m \u001b[0mreal_data\u001b[0m\u001b[0;34m.\u001b[0m\u001b[0mmin\u001b[0m\u001b[0;34m(\u001b[0m\u001b[0;34m)\u001b[0m\u001b[0;34m,\u001b[0m \u001b[0mreal_data\u001b[0m\u001b[0;34m.\u001b[0m\u001b[0mmax\u001b[0m\u001b[0;34m(\u001b[0m\u001b[0;34m)\u001b[0m\u001b[0;34m\u001b[0m\u001b[0;34m\u001b[0m\u001b[0m\n",
            "\u001b[0;32m/usr/local/lib/python3.11/dist-packages/torchvision/datasets/mnist.py\u001b[0m in \u001b[0;36m__getitem__\u001b[0;34m(self, index)\u001b[0m\n\u001b[1;32m    144\u001b[0m \u001b[0;34m\u001b[0m\u001b[0m\n\u001b[1;32m    145\u001b[0m         \u001b[0;32mif\u001b[0m \u001b[0mself\u001b[0m\u001b[0;34m.\u001b[0m\u001b[0mtransform\u001b[0m \u001b[0;32mis\u001b[0m \u001b[0;32mnot\u001b[0m \u001b[0;32mNone\u001b[0m\u001b[0;34m:\u001b[0m\u001b[0;34m\u001b[0m\u001b[0;34m\u001b[0m\u001b[0m\n\u001b[0;32m--> 146\u001b[0;31m             \u001b[0mimg\u001b[0m \u001b[0;34m=\u001b[0m \u001b[0mself\u001b[0m\u001b[0;34m.\u001b[0m\u001b[0mtransform\u001b[0m\u001b[0;34m(\u001b[0m\u001b[0mimg\u001b[0m\u001b[0;34m)\u001b[0m\u001b[0;34m\u001b[0m\u001b[0;34m\u001b[0m\u001b[0m\n\u001b[0m\u001b[1;32m    147\u001b[0m \u001b[0;34m\u001b[0m\u001b[0m\n\u001b[1;32m    148\u001b[0m         \u001b[0;32mif\u001b[0m \u001b[0mself\u001b[0m\u001b[0;34m.\u001b[0m\u001b[0mtarget_transform\u001b[0m \u001b[0;32mis\u001b[0m \u001b[0;32mnot\u001b[0m \u001b[0;32mNone\u001b[0m\u001b[0;34m:\u001b[0m\u001b[0;34m\u001b[0m\u001b[0;34m\u001b[0m\u001b[0m\n",
            "\u001b[0;32m/usr/local/lib/python3.11/dist-packages/torchvision/transforms/transforms.py\u001b[0m in \u001b[0;36m__call__\u001b[0;34m(self, img)\u001b[0m\n\u001b[1;32m     93\u001b[0m     \u001b[0;32mdef\u001b[0m \u001b[0m__call__\u001b[0m\u001b[0;34m(\u001b[0m\u001b[0mself\u001b[0m\u001b[0;34m,\u001b[0m \u001b[0mimg\u001b[0m\u001b[0;34m)\u001b[0m\u001b[0;34m:\u001b[0m\u001b[0;34m\u001b[0m\u001b[0;34m\u001b[0m\u001b[0m\n\u001b[1;32m     94\u001b[0m         \u001b[0;32mfor\u001b[0m \u001b[0mt\u001b[0m \u001b[0;32min\u001b[0m \u001b[0mself\u001b[0m\u001b[0;34m.\u001b[0m\u001b[0mtransforms\u001b[0m\u001b[0;34m:\u001b[0m\u001b[0;34m\u001b[0m\u001b[0;34m\u001b[0m\u001b[0m\n\u001b[0;32m---> 95\u001b[0;31m             \u001b[0mimg\u001b[0m \u001b[0;34m=\u001b[0m \u001b[0mt\u001b[0m\u001b[0;34m(\u001b[0m\u001b[0mimg\u001b[0m\u001b[0;34m)\u001b[0m\u001b[0;34m\u001b[0m\u001b[0;34m\u001b[0m\u001b[0m\n\u001b[0m\u001b[1;32m     96\u001b[0m         \u001b[0;32mreturn\u001b[0m \u001b[0mimg\u001b[0m\u001b[0;34m\u001b[0m\u001b[0;34m\u001b[0m\u001b[0m\n\u001b[1;32m     97\u001b[0m \u001b[0;34m\u001b[0m\u001b[0m\n",
            "\u001b[0;32m/usr/local/lib/python3.11/dist-packages/torch/nn/modules/module.py\u001b[0m in \u001b[0;36m_wrapped_call_impl\u001b[0;34m(self, *args, **kwargs)\u001b[0m\n\u001b[1;32m   1737\u001b[0m             \u001b[0;32mreturn\u001b[0m \u001b[0mself\u001b[0m\u001b[0;34m.\u001b[0m\u001b[0m_compiled_call_impl\u001b[0m\u001b[0;34m(\u001b[0m\u001b[0;34m*\u001b[0m\u001b[0margs\u001b[0m\u001b[0;34m,\u001b[0m \u001b[0;34m**\u001b[0m\u001b[0mkwargs\u001b[0m\u001b[0;34m)\u001b[0m  \u001b[0;31m# type: ignore[misc]\u001b[0m\u001b[0;34m\u001b[0m\u001b[0;34m\u001b[0m\u001b[0m\n\u001b[1;32m   1738\u001b[0m         \u001b[0;32melse\u001b[0m\u001b[0;34m:\u001b[0m\u001b[0;34m\u001b[0m\u001b[0;34m\u001b[0m\u001b[0m\n\u001b[0;32m-> 1739\u001b[0;31m             \u001b[0;32mreturn\u001b[0m \u001b[0mself\u001b[0m\u001b[0;34m.\u001b[0m\u001b[0m_call_impl\u001b[0m\u001b[0;34m(\u001b[0m\u001b[0;34m*\u001b[0m\u001b[0margs\u001b[0m\u001b[0;34m,\u001b[0m \u001b[0;34m**\u001b[0m\u001b[0mkwargs\u001b[0m\u001b[0;34m)\u001b[0m\u001b[0;34m\u001b[0m\u001b[0;34m\u001b[0m\u001b[0m\n\u001b[0m\u001b[1;32m   1740\u001b[0m \u001b[0;34m\u001b[0m\u001b[0m\n\u001b[1;32m   1741\u001b[0m     \u001b[0;31m# torchrec tests the code consistency with the following code\u001b[0m\u001b[0;34m\u001b[0m\u001b[0;34m\u001b[0m\u001b[0m\n",
            "\u001b[0;32m/usr/local/lib/python3.11/dist-packages/torch/nn/modules/module.py\u001b[0m in \u001b[0;36m_call_impl\u001b[0;34m(self, *args, **kwargs)\u001b[0m\n\u001b[1;32m   1742\u001b[0m     \u001b[0;31m# fmt: off\u001b[0m\u001b[0;34m\u001b[0m\u001b[0;34m\u001b[0m\u001b[0m\n\u001b[1;32m   1743\u001b[0m     \u001b[0;32mdef\u001b[0m \u001b[0m_call_impl\u001b[0m\u001b[0;34m(\u001b[0m\u001b[0mself\u001b[0m\u001b[0;34m,\u001b[0m \u001b[0;34m*\u001b[0m\u001b[0margs\u001b[0m\u001b[0;34m,\u001b[0m \u001b[0;34m**\u001b[0m\u001b[0mkwargs\u001b[0m\u001b[0;34m)\u001b[0m\u001b[0;34m:\u001b[0m\u001b[0;34m\u001b[0m\u001b[0;34m\u001b[0m\u001b[0m\n\u001b[0;32m-> 1744\u001b[0;31m         \u001b[0mforward_call\u001b[0m \u001b[0;34m=\u001b[0m \u001b[0;34m(\u001b[0m\u001b[0mself\u001b[0m\u001b[0;34m.\u001b[0m\u001b[0m_slow_forward\u001b[0m \u001b[0;32mif\u001b[0m \u001b[0mtorch\u001b[0m\u001b[0;34m.\u001b[0m\u001b[0m_C\u001b[0m\u001b[0;34m.\u001b[0m\u001b[0m_get_tracing_state\u001b[0m\u001b[0;34m(\u001b[0m\u001b[0;34m)\u001b[0m \u001b[0;32melse\u001b[0m \u001b[0mself\u001b[0m\u001b[0;34m.\u001b[0m\u001b[0mforward\u001b[0m\u001b[0;34m)\u001b[0m\u001b[0;34m\u001b[0m\u001b[0;34m\u001b[0m\u001b[0m\n\u001b[0m\u001b[1;32m   1745\u001b[0m         \u001b[0;31m# If we don't have any hooks, we want to skip the rest of the logic in\u001b[0m\u001b[0;34m\u001b[0m\u001b[0;34m\u001b[0m\u001b[0m\n\u001b[1;32m   1746\u001b[0m         \u001b[0;31m# this function, and just call forward.\u001b[0m\u001b[0;34m\u001b[0m\u001b[0;34m\u001b[0m\u001b[0m\n",
            "\u001b[0;31mKeyboardInterrupt\u001b[0m: "
          ]
        }
      ],
      "source": [
        "d_data = RealOrFakeDataset(mnist_train)\n",
        "d_loader = DataLoader(d_data, batch_size=128, shuffle=True)\n",
        "\n",
        "discriminator = Discriminator().to(device)\n",
        "trainer = DiscriminatorTrainer(\n",
        "    model=discriminator,\n",
        "    criterion=nn.BCEWithLogitsLoss(),\n",
        "    optimiser=optim.Adam(discriminator.parameters(), lr=5e-4),\n",
        "    dataset=d_data,\n",
        "    epsilon=0.3\n",
        ")\n",
        "\n",
        "# YOUR CODE HERE\n",
        "\n",
        "_ = trainer.train(d_loader, num_epochs=15, vis_every=5)\n",
        "\n",
        "#test the defaut hyperparameters\n",
        "#first adjust reduce the lr to 1e-3, let the discriminator learn more details. increase epsilon to 0.2, give more fake sample possibility\n",
        "#second adjust reduce lr to 5e-4, increase epsilon to 0.3 result: D probs: 0.15, 1.00, 0.78, 0.60, 0.99, 1.00, 0.94, 1.00, 1.00, 0.51\n",
        "#thrid adjust reduce lr to 1e-4, result: D probs: 0.51, 0.19, 0.56, 0.01, 0.06, 0.98, 0.28, 0.35, 0.48, 0.44\n",
        "#final use second adjustment. give good D probs result"
      ]
    },
    {
      "cell_type": "markdown",
      "metadata": {
        "id": "Q5gprn_Qvm7v"
      },
      "source": [
        "## Generative Adversarial Modelling\n",
        "\n",
        "The previously discussed approach, using adversarial training,\n",
        "is able to create somewhat realistic inputs.\n",
        "Although it might be considered a way to generate new images,\n",
        "it is not very practical because it does not allow\n",
        "to generate samples after training.\n",
        "\n",
        "Although Generative Adversarial Nets (GANs)\n",
        "do not really have a connection with adversarial examples\n",
        "(except for the main author and the name),\n",
        "the goal is also to \"fool\" a discriminator network.\n",
        "Instead of using adversarial examples as *false* examples, however,\n",
        "GANs use a decoder-style network, referred to as *generator*\n",
        "that maps from a known distribution to the input space."
      ]
    },
    {
      "cell_type": "code",
      "execution_count": 50,
      "metadata": {
        "id": "hUVZiYYkvm7v"
      },
      "outputs": [],
      "source": [
        "class Generator(nn.Module):\n",
        "    \"\"\" Network for creating fake MNIST images. \"\"\"\n",
        "\n",
        "    def __init__(self, latent_dim: int = 64):\n",
        "        \"\"\"\n",
        "        Parameters\n",
        "        ----------\n",
        "        latent_dim : int, optional\n",
        "            Dimensions of the latent space, from which to sample.\n",
        "        \"\"\"\n",
        "        super().__init__()\n",
        "        self.latent_dim = latent_dim\n",
        "        self.model = nn.Sequential(\n",
        "            nn.ConvTranspose2d(latent_dim, 32, 6),\n",
        "            nn.ELU(),\n",
        "            nn.ConvTranspose2d(32, 8, 3, stride=2),\n",
        "            nn.ELU(),\n",
        "            nn.ConvTranspose2d(8, 1, 4, stride=2),\n",
        "        )\n",
        "\n",
        "    def forward(self, z):\n",
        "        x = self.model(z.view(-1, self.latent_dim, 1, 1))\n",
        "        return x\n",
        "\n",
        "    @torch.no_grad()\n",
        "    def sample(self, batch_size: int):\n",
        "        \"\"\"\n",
        "        Sample in the latent space of the generator.\n",
        "\n",
        "        Parameters\n",
        "        ----------\n",
        "        batch_size : int\n",
        "            Number of samples to sample.\n",
        "\n",
        "        Returns\n",
        "        -------\n",
        "        z : (batch_size, latent_dim) torch.Tensor\n",
        "            A random vector in the latent space.\n",
        "\n",
        "        Notes\n",
        "        -----\n",
        "        Gradient computations are disabled.\n",
        "        \"\"\"\n",
        "        z = torch.randn(batch_size, self.latent_dim)\n",
        "        return z.to(self.model[0].weight.device)\n",
        "\n",
        "    @torch.no_grad()\n",
        "    def generate(self, z = None, batch_size: int = 1, bounded: bool = True):\n",
        "        \"\"\"\n",
        "        Generate one or more random images.\n",
        "\n",
        "        Parameters\n",
        "        ----------\n",
        "        z : (N, latent_dim) torch.Tensor\n",
        "            Latent vector(s) to use for generation.\n",
        "        batch_size : int, optional\n",
        "            Number of images to generate.\n",
        "            This parameter is ignored if `z` is specified.\n",
        "        bounded : bool, optional\n",
        "            Flag to assure that pixel values are in a valid range.\n",
        "\n",
        "        Returns\n",
        "        -------\n",
        "        x : (batch_size, C, H, W) torch.Tensor\n",
        "            Generated image(s).\n",
        "        \"\"\"\n",
        "        if z is None:\n",
        "            z = self.sample(batch_size)\n",
        "\n",
        "        raw = self.forward(z)\n",
        "\n",
        "        if bounded:\n",
        "            raw.clamp_(-0.4242, 2.8215)  # MNIST range\n",
        "\n",
        "        return raw"
      ]
    },
    {
      "cell_type": "markdown",
      "metadata": {
        "id": "tn7bVKQHvm74"
      },
      "source": [
        "### Excercise 4: Min-Max Game (6 points)\n",
        "\n",
        "\n",
        "The goal of the generator is to create images that maximise the loss\n",
        "that the discriminator attempts to minimise.\n",
        "The result is a min-max game between generator and discriminator.\n",
        "Mathematically, this leads to the following optimisation target:\n",
        "$$\\begin{aligned}\n",
        "\\max_d \\min_g \\mathbb{E}[\\log d(X)] + \\mathbb{E}[\\log(1 - d(g(Z)))].\n",
        "\\end{aligned}$$\n",
        "Note that this function is simply the negated binary cross-entropy loss.\n",
        "\n",
        " > Finish the implementation of the `update_gan` function,\n",
        " > including the `generator_error` and `discriminator_error` functions.\n",
        " > Make sure that the generator-error is used to update only the generator,\n",
        " > i.e. does not affect the discriminator, and vice versa.\n",
        " > To achieve this, you will need to control the gradients\n",
        " > with the techniques discussed in assignment 1.\n",
        " > Also, you do not want to directly maximise the error term for the generator,\n",
        " > since it suffers from vanishing gradients.\n",
        " > Think about an alternative, but equivalent optimisation problem.\n",
        ""
      ]
    },
    {
      "cell_type": "code",
      "execution_count": 51,
      "metadata": {
        "deletable": false,
        "nbgrader": {
          "cell_type": "code",
          "checksum": "79b63e62435a83c1104844838c580f85",
          "grade": false,
          "grade_id": "cell-1cff57f62d3dec3b",
          "locked": false,
          "schema_version": 3,
          "solution": true,
          "task": false
        },
        "tags": [],
        "id": "j0JKVWl5vm75"
      },
      "outputs": [],
      "source": [
        "def generator_error(gan: nn.Module, real_x: torch.Tensor, loss_func: nn.Module):\n",
        "    \"\"\"\n",
        "    Construct the gradient graph for updating the generator.\n",
        "\n",
        "    Parameters\n",
        "    ----------\n",
        "    gan : nn.Module\n",
        "        Module with `generator` and `discriminator` sub-modules.\n",
        "    real_x: torch.Tensor\n",
        "        Mini-batch from target distribution.\n",
        "    loss_func: nn.Module\n",
        "        Loss function taking logits and target values.\n",
        "\n",
        "    Returns\n",
        "    -------\n",
        "    err : torch.Tensor\n",
        "        Scalar tensor with graph for updating generator.\n",
        "    \"\"\"\n",
        "    # YOUR CODE HERE\n",
        "\n",
        "    #ramdon sample z\n",
        "    batch_size = real_x.size(0)\n",
        "    z = gan.generator.sample(batch_size)\n",
        "\n",
        "    #generate fake pic and calculate logits\n",
        "    fake = gan.generator(z)\n",
        "    logits = gan.discriminator(fake)\n",
        "\n",
        "    #maximizelogD(G(z)) to 1, achived by minimize the loss\n",
        "    labels = torch.ones_like(logits)\n",
        "    return loss_func(logits, labels)"
      ]
    },
    {
      "cell_type": "code",
      "execution_count": 52,
      "metadata": {
        "deletable": false,
        "editable": false,
        "nbgrader": {
          "cell_type": "code",
          "checksum": "390dc45bd690c234914ebbb2d1402507",
          "grade": true,
          "grade_id": "cell-d7f3d119c11b44db",
          "locked": true,
          "points": 1,
          "schema_version": 3,
          "solution": false,
          "task": false
        },
        "tags": [],
        "id": "6yNf29mBvm75"
      },
      "outputs": [],
      "source": [
        "# Test Cell: do not edit or delete!\n",
        "gan = nn.ModuleDict({\n",
        "    'generator': Generator(),\n",
        "    'discriminator': Discriminator()\n",
        "})\n",
        "bce = nn.BCEWithLogitsLoss()\n",
        "\n",
        "try:\n",
        "    err = generator_error(gan, torch.randn(5, 1, 28, 28), bce)\n",
        "    grads = torch.autograd.grad(err, gan.generator.parameters())\n",
        "except RuntimeError:\n",
        "    raise AssertionError(\n",
        "        \"ex4: generator_error does not allow to compute gradients (-1 point)\"\n",
        "    )"
      ]
    },
    {
      "cell_type": "code",
      "execution_count": null,
      "metadata": {
        "deletable": false,
        "editable": false,
        "nbgrader": {
          "cell_type": "code",
          "checksum": "48141330461ff9ad09e260ffa0fe9bbf",
          "grade": true,
          "grade_id": "cell-07d5f9f287635c6a",
          "locked": true,
          "points": 0.5,
          "schema_version": 3,
          "solution": false,
          "task": false
        },
        "tags": [],
        "id": "z3_AFrYzvm75"
      },
      "outputs": [],
      "source": [
        "# Test Cell: do not edit or delete!"
      ]
    },
    {
      "cell_type": "code",
      "execution_count": 53,
      "metadata": {
        "deletable": false,
        "nbgrader": {
          "cell_type": "code",
          "checksum": "6d7a2d82d3a7b41c0ad291d1c800394c",
          "grade": false,
          "grade_id": "cell-37342f54487640f3",
          "locked": false,
          "schema_version": 3,
          "solution": true,
          "task": false
        },
        "tags": [],
        "id": "7IqQjrrCvm75"
      },
      "outputs": [],
      "source": [
        "def discriminator_error(gan: nn.Module, real_x: torch.Tensor, loss_func: nn.Module):\n",
        "    \"\"\"\n",
        "    Construct the gradient graph for updating the discriminator.\n",
        "\n",
        "    Parameters\n",
        "    ----------\n",
        "    gan : nn.Module\n",
        "        Module with `generator` and `discriminator` sub-modules.\n",
        "    real_x: torch.Tensor\n",
        "        Mini-batch from target distribution.\n",
        "    loss_func: nn.Module\n",
        "        Loss function taking logits and target values.\n",
        "\n",
        "    Returns\n",
        "    -------\n",
        "    err : torch.Tensor\n",
        "        Scalar tensor with graph for updating discriminator.\n",
        "    \"\"\"\n",
        "    # YOUR CODE HERE\n",
        "\n",
        "    # real sample\n",
        "    real_logits = gan.discriminator(real_x)\n",
        "    real_labels = torch.ones_like(real_logits)\n",
        "    loss_real = loss_func(real_logits, real_labels)\n",
        "\n",
        "    # fake sample (detach)\n",
        "    batch_size = real_x.size(0)\n",
        "    z = gan.generator.sample(batch_size)\n",
        "    fake = gan.generator(z).detach()\n",
        "    fake_logits = gan.discriminator(fake)\n",
        "    fake_labels = torch.zeros_like(fake_logits)\n",
        "    loss_fake = loss_func(fake_logits, fake_labels)\n",
        "\n",
        "    return loss_real + loss_fake"
      ]
    },
    {
      "cell_type": "code",
      "execution_count": 54,
      "metadata": {
        "deletable": false,
        "editable": false,
        "nbgrader": {
          "cell_type": "code",
          "checksum": "19a50aab07131c142c6ab1635c8d71f9",
          "grade": true,
          "grade_id": "cell-7829942b0b34da1e",
          "locked": true,
          "points": 1,
          "schema_version": 3,
          "solution": false,
          "task": false
        },
        "tags": [],
        "id": "ImcuW2mKvm75"
      },
      "outputs": [],
      "source": [
        "# Test Cell: do not edit or delete!\n",
        "gan = nn.ModuleDict({\n",
        "    'generator': Generator(),\n",
        "    'discriminator': Discriminator()\n",
        "})\n",
        "bce = nn.BCEWithLogitsLoss()\n",
        "\n",
        "try:\n",
        "    err = discriminator_error(gan, torch.randn(5, 1, 28, 28), bce)\n",
        "    grads = torch.autograd.grad(err, gan.discriminator.parameters())\n",
        "except RuntimeError:\n",
        "    raise AssertionError(\n",
        "        \"ex4: discriminator_error does not allow to compute gradients (-1 point)\"\n",
        "    )"
      ]
    },
    {
      "cell_type": "code",
      "execution_count": 55,
      "metadata": {
        "deletable": false,
        "editable": false,
        "nbgrader": {
          "cell_type": "code",
          "checksum": "67508223a643a3dd171f6b93d26f2d9c",
          "grade": true,
          "grade_id": "cell-ed73a7012b9323b0",
          "locked": true,
          "points": 0.5,
          "schema_version": 3,
          "solution": false,
          "task": false
        },
        "tags": [],
        "id": "3kOy9asIvm75"
      },
      "outputs": [],
      "source": [
        "# Test Cell: do not edit or delete!"
      ]
    },
    {
      "cell_type": "code",
      "execution_count": 56,
      "metadata": {
        "deletable": false,
        "nbgrader": {
          "cell_type": "code",
          "checksum": "95ed553d8ecb2ab39b4c7a509cc16002",
          "grade": false,
          "grade_id": "cell-d3639e99db870a93",
          "locked": false,
          "schema_version": 3,
          "solution": true,
          "task": false
        },
        "tags": [],
        "id": "mOhtiEWNvm75"
      },
      "outputs": [],
      "source": [
        "def update_gan(gan: nn.Module, loader: DataLoader, loss_func: nn.Module,\n",
        "               opt: optim.Optimizer):\n",
        "    \"\"\"\n",
        "    Train GAN for one epoch.\n",
        "\n",
        "    Parameters\n",
        "    ----------\n",
        "    gan : nn.Module\n",
        "        Module with `generator` and `discriminator` sub-modules.\n",
        "    loader : DataLoader\n",
        "        Standard, supervised data loader with samples from target distribution.\n",
        "    loss_func : nn.Module\n",
        "        Loss function taking logits and target values.\n",
        "    opt : optim.Optimizer\n",
        "        Optimiser for updating GAN parameters.\n",
        "\n",
        "    Returns\n",
        "    -------\n",
        "    g_errs : list\n",
        "        List of computed errors for generator update in each batch.\n",
        "    d_errs : list\n",
        "        List of computed errors for discriminator update in each batch.\n",
        "    \"\"\"\n",
        "    gan.train()\n",
        "    device = next(gan.parameters()).device\n",
        "\n",
        "    d_errs, g_errs = [], []\n",
        "    for x, _ in loader:\n",
        "        x = x.to(device)\n",
        "        # YOUR CODE HERE\n",
        "\n",
        "        # Discriminator update\n",
        "        d_loss = discriminator_error(gan, x, loss_func)\n",
        "        opt.zero_grad()\n",
        "        d_loss.backward()\n",
        "        opt.step()\n",
        "        d_errs.append(d_loss.item())\n",
        "\n",
        "        # Generator update, no update on parameter ondiscriminator\n",
        "        for p in gan.discriminator.parameters():\n",
        "            p.requires_grad = False\n",
        "\n",
        "        g_loss = generator_error(gan, x, loss_func)\n",
        "        opt.zero_grad()\n",
        "        g_loss.backward()\n",
        "        opt.step()\n",
        "        g_errs.append(g_loss.item())\n",
        "\n",
        "        #recover parameter for discriminator\n",
        "        for p in gan.discriminator.parameters():\n",
        "            p.requires_grad = True\n",
        "\n",
        "    return g_errs, d_errs"
      ]
    },
    {
      "cell_type": "code",
      "execution_count": 57,
      "metadata": {
        "deletable": false,
        "editable": false,
        "nbgrader": {
          "cell_type": "code",
          "checksum": "89c6c69fdb4d9864b7f1660cc1ab0870",
          "grade": true,
          "grade_id": "cell-99b7d4927c903c5b",
          "locked": true,
          "points": 1,
          "schema_version": 3,
          "solution": false,
          "task": false
        },
        "tags": [],
        "id": "7DW8uMNTvm76"
      },
      "outputs": [],
      "source": [
        "# Test Cell: do not edit or delete!\n",
        "gan = nn.ModuleDict({\n",
        "    'generator': Generator(),\n",
        "    'discriminator': Discriminator()\n",
        "}).to(device)\n",
        "bce = nn.BCEWithLogitsLoss()\n",
        "opt = optim.Adam(gan.parameters(), lr=1e-3)\n",
        "\n",
        "old_pars = {k: v.clone() for k, v in gan.state_dict().items()}\n",
        "g_errs, d_errs = update_gan(gan, [next(iter(train_loader))], bce, opt)\n",
        "assert len(g_errs) == len(test_loader), (\n",
        "    \"ex4: wrong number of generator errors in update_gan(-1 point)\"\n",
        ")\n",
        "assert len(d_errs) == len(test_loader), (\n",
        "    \"ex4: wrong number of discriminator errors in update_gan (-1 point)\"\n",
        ")"
      ]
    },
    {
      "cell_type": "code",
      "execution_count": 58,
      "metadata": {
        "deletable": false,
        "editable": false,
        "nbgrader": {
          "cell_type": "code",
          "checksum": "6e10577dbc5341dc52ffa356c93bc15c",
          "grade": true,
          "grade_id": "cell-7ed80050c64cdb4d",
          "locked": true,
          "points": 1,
          "schema_version": 3,
          "solution": false,
          "task": false
        },
        "tags": [],
        "id": "Ikg23TsLvm76"
      },
      "outputs": [],
      "source": [
        "# Test Cell: do not edit or delete!\n",
        "assert all(\n",
        "    torch.any(old_pars[k] != par) for k, par in gan.state_dict().items()\n",
        "), \"ex4: update_gan does not update all parameters (-1 points)\""
      ]
    },
    {
      "cell_type": "code",
      "execution_count": 59,
      "metadata": {
        "deletable": false,
        "editable": false,
        "nbgrader": {
          "cell_type": "code",
          "checksum": "e3b1b680dfb135e9a4482001adae8655",
          "grade": true,
          "grade_id": "cell-495ee05cc9204fba",
          "locked": true,
          "points": 1,
          "schema_version": 3,
          "solution": false,
          "task": false
        },
        "tags": [],
        "id": "o8QsnTfYvm76"
      },
      "outputs": [],
      "source": [
        "# Test Cell: do not edit or delete!"
      ]
    },
    {
      "cell_type": "code",
      "execution_count": 60,
      "metadata": {
        "pycharm": {
          "name": "#%%\n"
        },
        "tags": [
          "skip-execution"
        ],
        "colab": {
          "base_uri": "https://localhost:8080/",
          "height": 741
        },
        "id": "6z66rOyDvm76",
        "outputId": "e7d396df-f462-4573-c5d7-7f7f6d0ea7fe"
      },
      "outputs": [
        {
          "output_type": "stream",
          "name": "stdout",
          "text": [
            "Epoch  0 - avg G loss: 0.67761, avg D loss: 1.38067\n",
            "D probs: 0.51, 0.51, 0.51, 0.51, 0.51, 0.51, 0.51, 0.51, 0.51, 0.51\n"
          ]
        },
        {
          "output_type": "display_data",
          "data": {
            "text/plain": [
              "<PIL.Image.Image image mode=L size=280x28>"
            ],
            "image/png": "[encoded data removed]",
            "image/jpeg": "[encoded data removed]"
          },
          "metadata": {
            "width": "100%"
          }
        },
        {
          "output_type": "stream",
          "name": "stdout",
          "text": [
            "Epoch  1 - avg G loss: 2.06218, avg D loss: 0.80855\n",
            "Epoch  2 - avg G loss: 1.23764, avg D loss: 1.22201\n",
            "Epoch  3 - avg G loss: 0.79902, avg D loss: 1.38824\n",
            "Epoch  4 - avg G loss: 0.79839, avg D loss: 1.32145\n",
            "Epoch  5 - avg G loss: 0.79151, avg D loss: 1.35784\n",
            "D probs: 0.59, 0.54, 0.49, 0.55, 0.50, 0.54, 0.50, 0.65, 0.54, 0.59\n"
          ]
        },
        {
          "output_type": "display_data",
          "data": {
            "text/plain": [
              "<PIL.Image.Image image mode=L size=280x28>"
            ],
            "image/png": "[encoded data removed]",
            "image/jpeg": "[encoded data removed]"
          },
          "metadata": {
            "width": "100%"
          }
        },
        {
          "output_type": "stream",
          "name": "stdout",
          "text": [
            "Epoch  6 - avg G loss: 0.76846, avg D loss: 1.35223\n",
            "Epoch  7 - avg G loss: 0.75857, avg D loss: 1.34071\n",
            "Epoch  8 - avg G loss: 0.83705, avg D loss: 1.27871\n",
            "Epoch  9 - avg G loss: 0.93014, avg D loss: 1.18647\n",
            "Epoch  10 - avg G loss: 1.12969, avg D loss: 1.02342\n",
            "D probs: 0.45, 0.21, 0.13, 0.11, 0.30, 0.65, 0.17, 0.17, 0.06, 0.25\n"
          ]
        },
        {
          "output_type": "display_data",
          "data": {
            "text/plain": [
              "<PIL.Image.Image image mode=L size=280x28>"
            ],
            "image/png": "[encoded data removed]",
            "image/jpeg": "[encoded data removed]"
          },
          "metadata": {
            "width": "100%"
          }
        },
        {
          "output_type": "stream",
          "name": "stdout",
          "text": [
            "Epoch  11 - avg G loss: 1.48267, avg D loss: 0.82859\n",
            "Epoch  12 - avg G loss: 1.94122, avg D loss: 0.63288\n",
            "Epoch  13 - avg G loss: 2.28521, avg D loss: 0.50441\n",
            "Epoch  14 - avg G loss: 2.55662, avg D loss: 0.44509\n",
            "Epoch  15 - avg G loss: 2.77558, avg D loss: 0.42759\n",
            "D probs: 0.04, 0.09, 0.22, 0.04, 0.01, 0.03, 0.25, 0.04, 0.00, 0.35\n"
          ]
        },
        {
          "output_type": "display_data",
          "data": {
            "text/plain": [
              "<PIL.Image.Image image mode=L size=280x28>"
            ],
            "image/png": "[encoded data removed]",
            "image/jpeg": "[encoded data removed]"
          },
          "metadata": {
            "width": "100%"
          }
        },
        {
          "output_type": "stream",
          "name": "stdout",
          "text": [
            "Epoch  16 - avg G loss: 2.97327, avg D loss: 0.40763\n",
            "Epoch  17 - avg G loss: 3.09141, avg D loss: 0.39882\n",
            "Epoch  18 - avg G loss: 3.18506, avg D loss: 0.40100\n",
            "Epoch  19 - avg G loss: 3.18725, avg D loss: 0.40921\n",
            "Epoch  20 - avg G loss: 3.18596, avg D loss: 0.41840\n",
            "D probs: 0.01, 0.00, 0.18, 0.19, 0.01, 0.63, 0.07, 0.05, 0.03, 0.00\n"
          ]
        },
        {
          "output_type": "display_data",
          "data": {
            "text/plain": [
              "<PIL.Image.Image image mode=L size=280x28>"
            ],
            "image/png": "[encoded data removed]",
            "image/jpeg": "[encoded data removed]"
          },
          "metadata": {
            "width": "100%"
          }
        },
        {
          "output_type": "stream",
          "name": "stdout",
          "text": [
            "Epoch  21 - avg G loss: 3.18068, avg D loss: 0.42043\n",
            "Epoch  22 - avg G loss: 3.15319, avg D loss: 0.43758\n",
            "Epoch  23 - avg G loss: 3.14680, avg D loss: 0.45110\n",
            "Epoch  24 - avg G loss: 3.05647, avg D loss: 0.46039\n",
            "Epoch  25 - avg G loss: 3.03828, avg D loss: 0.47564\n",
            "D probs: 0.13, 0.07, 0.11, 0.32, 0.78, 0.00, 0.03, 0.03, 0.01, 0.00\n"
          ]
        },
        {
          "output_type": "display_data",
          "data": {
            "text/plain": [
              "<PIL.Image.Image image mode=L size=280x28>"
            ],
            "image/png": "[encoded data removed]",
            "image/jpeg": "[encoded data removed]"
          },
          "metadata": {
            "width": "100%"
          }
        }
      ],
      "source": [
        "# sanity check\n",
        "gan = nn.ModuleDict({\n",
        "    'generator': Generator(),\n",
        "    'discriminator': Discriminator()\n",
        "}).to(device)\n",
        "bce = nn.BCEWithLogitsLoss()\n",
        "opt = optim.Adam([\n",
        "    {'params': gan.generator.parameters(), 'lr': 1e-3},\n",
        "    {'params': gan.discriminator.parameters(), 'lr': 2e-4}\n",
        "])\n",
        "train_gan(gan, train_loader, bce, opt, num_epochs=25)"
      ]
    }
  ],
  "metadata": {
    "kernelspec": {
      "display_name": "Python 3",
      "name": "python3"
    },
    "language_info": {
      "codemirror_mode": {
        "name": "ipython",
        "version": 3
      },
      "file_extension": ".py",
      "mimetype": "text/x-python",
      "name": "python",
      "nbconvert_exporter": "python",
      "pygments_lexer": "ipython3",
      "version": "3.10.0"
    },
    "colab": {
      "provenance": [],
      "machine_shape": "hm",
      "gpuType": "T4"
    },
    "accelerator": "GPU"
  },
  "nbformat": 4,
  "nbformat_minor": 0
}